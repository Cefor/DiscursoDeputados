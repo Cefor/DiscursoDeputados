{
 "cells": [
  {
   "cell_type": "code",
   "execution_count": 1,
   "metadata": {
    "collapsed": true
   },
   "outputs": [],
   "source": [
    "# apoio\n",
    "import pandas as pd\n",
    "import numpy as np\n",
    "import matplotlib.pyplot as plt\n",
    "\n",
    "# scikit-learn\n",
    "from sklearn.feature_extraction.text import CountVectorizer\n",
    "from sklearn.model_selection import train_test_split\n",
    "from sklearn.naive_bayes import MultinomialNB\n",
    "from sklearn import metrics"
   ]
  },
  {
   "cell_type": "code",
   "execution_count": 2,
   "metadata": {},
   "outputs": [
    {
     "data": {
      "text/html": [
       "<div>\n",
       "<style>\n",
       "    .dataframe thead tr:only-child th {\n",
       "        text-align: right;\n",
       "    }\n",
       "\n",
       "    .dataframe thead th {\n",
       "        text-align: left;\n",
       "    }\n",
       "\n",
       "    .dataframe tbody tr th {\n",
       "        vertical-align: top;\n",
       "    }\n",
       "</style>\n",
       "<table border=\"1\" class=\"dataframe\">\n",
       "  <thead>\n",
       "    <tr style=\"text-align: right;\">\n",
       "      <th></th>\n",
       "      <th>ano</th>\n",
       "      <th>discurso</th>\n",
       "      <th>PT</th>\n",
       "      <th>PSDB</th>\n",
       "    </tr>\n",
       "  </thead>\n",
       "  <tbody>\n",
       "    <tr>\n",
       "      <th>0</th>\n",
       "      <td>2001</td>\n",
       "      <td>nilson mour recentemente mundial alimentacao a...</td>\n",
       "      <td>1</td>\n",
       "      <td>0</td>\n",
       "    </tr>\n",
       "    <tr>\n",
       "      <th>1</th>\n",
       "      <td>2001</td>\n",
       "      <td>coriolano sale salario minimo realmente enigma...</td>\n",
       "      <td>1</td>\n",
       "      <td>0</td>\n",
       "    </tr>\n",
       "    <tr>\n",
       "      <th>2</th>\n",
       "      <td>2001</td>\n",
       "      <td>saulo pedrosa existe ditado popular considero ...</td>\n",
       "      <td>1</td>\n",
       "      <td>0</td>\n",
       "    </tr>\n",
       "    <tr>\n",
       "      <th>3</th>\n",
       "      <td>2001</td>\n",
       "      <td>lim eminente nilson mourao promulgacao constit...</td>\n",
       "      <td>1</td>\n",
       "      <td>0</td>\n",
       "    </tr>\n",
       "    <tr>\n",
       "      <th>4</th>\n",
       "      <td>2001</td>\n",
       "      <td>agnaldo muniz consumidor amargara aumento luz ...</td>\n",
       "      <td>1</td>\n",
       "      <td>0</td>\n",
       "    </tr>\n",
       "  </tbody>\n",
       "</table>\n",
       "</div>"
      ],
      "text/plain": [
       "    ano                                           discurso  PT  PSDB\n",
       "0  2001  nilson mour recentemente mundial alimentacao a...   1     0\n",
       "1  2001  coriolano sale salario minimo realmente enigma...   1     0\n",
       "2  2001  saulo pedrosa existe ditado popular considero ...   1     0\n",
       "3  2001  lim eminente nilson mourao promulgacao constit...   1     0\n",
       "4  2001  agnaldo muniz consumidor amargara aumento luz ...   1     0"
      ]
     },
     "execution_count": 2,
     "metadata": {},
     "output_type": "execute_result"
    }
   ],
   "source": [
    "# carrega dataframe com discursos do PT e PSDB\n",
    "dftr = pd.read_csv(r'F:\\_Pesquisa\\PosDoc\\_Github\\SupLearning\\disc_classificacao.csv')\n",
    "dftr.head()"
   ]
  },
  {
   "cell_type": "code",
   "execution_count": null,
   "metadata": {
    "collapsed": true
   },
   "outputs": [],
   "source": [
    "#####################################################\n",
    "# Primeiro teste do algoritmo de classificação"
   ]
  },
  {
   "cell_type": "code",
   "execution_count": 66,
   "metadata": {
    "collapsed": true
   },
   "outputs": [],
   "source": [
    "# define discursos do PT como os rótulos a serem aprendidos pelo algoritmo\n",
    "y = dftr['PT']\n",
    "\n",
    "# divide dataframe em dados de treinamento (2/3) e dados de teste (1/3)\n",
    "X_train, X_test, y_train, y_test = train_test_split(dftr['discurso'], y, test_size=0.33, random_state=53)\n",
    "\n",
    "# contagem de frequências \n",
    "count_vectorizer = CountVectorizer()\n",
    "count_train = count_vectorizer.fit_transform(X_train.values)\n",
    "count_test = count_vectorizer.transform(X_test.values)\n",
    "\n",
    "# algoritmo Multinomial de Naive Bayes \n",
    "alpha = [.1,.2,.3,.4,.5,.6,.7,.8,.9,1,2,3,4,5,6,7,8,9,10,20]\n",
    "acc_score = []\n",
    "for i in alpha:\n",
    "    nb_classifier = MultinomialNB(alpha = i)\n",
    "    nb_classifier.fit(count_train, y_train)\n",
    "    pred = nb_classifier.predict(count_test)\n",
    "    acc_score.append(metrics.accuracy_score(y_test, pred))"
   ]
  },
  {
   "cell_type": "code",
   "execution_count": 70,
   "metadata": {},
   "outputs": [
    {
     "data": {
      "image/png": "[encoded data removed]",
      "text/plain": [
       "<matplotlib.figure.Figure at 0x24789575dd8>"
      ]
     },
     "metadata": {},
     "output_type": "display_data"
    }
   ],
   "source": [
    "# variação da acurácia com alpha\n",
    "plt.plot(alpha, acc_score, 'k')\n",
    "plt.xlabel('ALFA')\n",
    "plt.ylabel('ACURÁCIA')\n",
    "plt.show()"
   ]
  },
  {
   "cell_type": "code",
   "execution_count": 32,
   "metadata": {},
   "outputs": [
    {
     "data": {
      "text/plain": [
       "array([[ 753, 4003],\n",
       "       [2976, 7985]])"
      ]
     },
     "execution_count": 32,
     "metadata": {},
     "output_type": "execute_result"
    }
   ],
   "source": [
    "metrics.confusion_matrix(y_test, pred, labels=[0,1])"
   ]
  },
  {
   "cell_type": "code",
   "execution_count": null,
   "metadata": {
    "collapsed": true
   },
   "outputs": [],
   "source": [
    "#####################################################"
   ]
  },
  {
   "cell_type": "code",
   "execution_count": 74,
   "metadata": {
    "collapsed": true
   },
   "outputs": [],
   "source": [
    "#####################################################\n",
    "# Segundo teste do algoritmo de classificação"
   ]
  },
  {
   "cell_type": "code",
   "execution_count": 21,
   "metadata": {},
   "outputs": [
    {
     "data": {
      "text/plain": [
       "[0.99309153713298792,\n",
       " 0.99419210722263585,\n",
       " 0.99058404377147224,\n",
       " 0.99407894736842106,\n",
       " 0.98954025784480659,\n",
       " 0.98582925122463261,\n",
       " 0.99012593016599881,\n",
       " 0.99215481171548114,\n",
       " 0.99359260914915815,\n",
       " 0.95868175110673881,\n",
       " 0.9821005917159763,\n",
       " 0.99515151515151512,\n",
       " 0.88269639065817407]"
      ]
     },
     "execution_count": 21,
     "metadata": {},
     "output_type": "execute_result"
    }
   ],
   "source": [
    "# utiliza toda a base de PT e PSDB, de 2001 a 2015, \n",
    "# para treinamento, tomando PT como referência\n",
    "X_train = dftr['discurso']\n",
    "y_train = dftr['PT']\n",
    "\n",
    "indano = []\n",
    "\n",
    "for i in range(2003,2015+1):\n",
    "\n",
    "    # carrega dataframe com discursos da coalizão\n",
    "    dfts = pd.read_csv(r'F:\\_Pesquisa\\PosDoc\\_Github\\SupLearning\\coalizao_' + str(i) + '.csv')\n",
    "    dfts['y'] = 1\n",
    "    \n",
    "    # informa ao algoritmo que os discursos do 'partido' serão testados como discursos do PT\n",
    "    X_test = dfts['discurso']\n",
    "    y_test = dfts['y']\n",
    "\n",
    "    # contagem de frequências \n",
    "    count_vectorizer = CountVectorizer()\n",
    "    count_train = count_vectorizer.fit_transform(X_train.values)\n",
    "    count_test = count_vectorizer.transform(X_test.values)\n",
    "\n",
    "    # algoritmo Multinomial de Naive Bayes \n",
    "    nb_classifier = MultinomialNB(alpha = 8)\n",
    "    nb_classifier.fit(count_train, y_train)\n",
    "    pred = nb_classifier.predict(count_test)\n",
    "    indano.append(metrics.accuracy_score(y_test, pred))\n",
    "    \n",
    "indano"
   ]
  },
  {
   "cell_type": "code",
   "execution_count": 22,
   "metadata": {},
   "outputs": [
    {
     "data": {
      "image/png": "[encoded data removed]",
      "text/plain": [
       "<matplotlib.figure.Figure at 0x21c94904cf8>"
      ]
     },
     "metadata": {},
     "output_type": "display_data"
    }
   ],
   "source": [
    "# variação da acurácia com alpha\n",
    "plt.plot(range(2003,2015+1), indano, 'k')\n",
    "plt.xlabel('ano')\n",
    "plt.ylabel('índice identidade')\n",
    "plt.show()"
   ]
  },
  {
   "cell_type": "code",
   "execution_count": null,
   "metadata": {
    "collapsed": true
   },
   "outputs": [],
   "source": []
  }
 ],
 "metadata": {
  "kernelspec": {
   "display_name": "Python 3",
   "language": "python",
   "name": "python3"
  },
  "language_info": {
   "codemirror_mode": {
    "name": "ipython",
    "version": 3
   },
   "file_extension": ".py",
   "mimetype": "text/x-python",
   "name": "python",
   "nbconvert_exporter": "python",
   "pygments_lexer": "ipython3",
   "version": "3.6.1"
  }
 },
 "nbformat": 4,
 "nbformat_minor": 2
}
