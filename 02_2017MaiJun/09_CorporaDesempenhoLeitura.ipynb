{
 "cells": [
  {
   "cell_type": "code",
   "execution_count": 2,
   "metadata": {
    "collapsed": true
   },
   "outputs": [],
   "source": [
    "# Leitura dos arquivos de discurso\n",
    "## Teste de performance de carga e tokenização"
   ]
  },
  {
   "cell_type": "code",
   "execution_count": 3,
   "metadata": {
    "collapsed": true
   },
   "outputs": [],
   "source": [
    "import nltk # carga do pacote Natural Language Toolkit\n",
    "import time\n",
    "import pandas as pd\n",
    "import numpy as np"
   ]
  },
  {
   "cell_type": "code",
   "execution_count": 4,
   "metadata": {
    "collapsed": true
   },
   "outputs": [],
   "source": [
    "# verificando desempenho de carga e tokenização para o corpus\n",
    "def teste_desempenho( vet_anos, df ):\n",
    "    # vet_anos é um range(ano_ini, ano_fim)\n",
    "    # df é um dataframe vazio ou com as colunas Ano, Leitura e Tokenizacao\n",
    "    \n",
    "    for i in vet_anos:\n",
    "\n",
    "        t1 = time.time()\n",
    "        f = open(r'F:\\_Pesquisa\\PosDoc\\Corpora\\Discursos_'+str(i)+'.txt','r')\n",
    "        raw = f.read()\n",
    "        t1 = time.time() - t1\n",
    "\n",
    "        t2 = time.time()\n",
    "        tokens = nltk.word_tokenize(raw)\n",
    "        t2 = time.time() - t2\n",
    "\n",
    "        f.close()\n",
    "\n",
    "        print(str(i))\n",
    "\n",
    "        df = df.append(pd.Series({'Ano': str(i),'Leitura': t1, 'Tokenizacao': t2 }),ignore_index = True)\n",
    "        \n",
    "    return df"
   ]
  },
  {
   "cell_type": "code",
   "execution_count": 5,
   "metadata": {
    "collapsed": true
   },
   "outputs": [],
   "source": [
    "# cria dataframe para os dados de desempenho\n",
    "df_des = pd.DataFrame()"
   ]
  },
  {
   "cell_type": "code",
   "execution_count": 6,
   "metadata": {
    "scrolled": true
   },
   "outputs": [
    {
     "name": "stdout",
     "output_type": "stream",
     "text": [
      "2003\n",
      "2004\n",
      "2005\n",
      "2006\n",
      "2007\n",
      "2008\n",
      "2009\n",
      "2010\n",
      "2011\n"
     ]
    }
   ],
   "source": [
    "# dados de 2003 a 2011\n",
    "df_des =  teste_desempenho(range(2003, 2011+1), df_des)\n",
    "df_des.to_csv('demepenho.csv', sep=';', index=False)"
   ]
  },
  {
   "cell_type": "code",
   "execution_count": 7,
   "metadata": {},
   "outputs": [
    {
     "name": "stdout",
     "output_type": "stream",
     "text": [
      "2012\n",
      "2013\n",
      "2014\n",
      "2015\n",
      "2016\n",
      "2017\n"
     ]
    }
   ],
   "source": [
    "# cria dataframe para os dados de desempenho de 2012\n",
    "df_des = pd.read_csv('demepenho.csv', sep=';')\n",
    "df_des =teste_desempenho(range(2012,2017+1), df_des)"
   ]
  },
  {
   "cell_type": "code",
   "execution_count": 8,
   "metadata": {
    "collapsed": true
   },
   "outputs": [],
   "source": [
    "df_des.to_csv('demepenho.csv', sep=';', index=False)"
   ]
  },
  {
   "cell_type": "code",
   "execution_count": 9,
   "metadata": {},
   "outputs": [
    {
     "data": {
      "text/html": [
       "<div>\n",
       "<style>\n",
       "    .dataframe thead tr:only-child th {\n",
       "        text-align: right;\n",
       "    }\n",
       "\n",
       "    .dataframe thead th {\n",
       "        text-align: left;\n",
       "    }\n",
       "\n",
       "    .dataframe tbody tr th {\n",
       "        vertical-align: top;\n",
       "    }\n",
       "</style>\n",
       "<table border=\"1\" class=\"dataframe\">\n",
       "  <thead>\n",
       "    <tr style=\"text-align: right;\">\n",
       "      <th></th>\n",
       "      <th>Ano</th>\n",
       "      <th>Leitura</th>\n",
       "      <th>Tokenizacao</th>\n",
       "    </tr>\n",
       "  </thead>\n",
       "  <tbody>\n",
       "    <tr>\n",
       "      <th>0</th>\n",
       "      <td>2003</td>\n",
       "      <td>0.380770</td>\n",
       "      <td>126.526620</td>\n",
       "    </tr>\n",
       "    <tr>\n",
       "      <th>1</th>\n",
       "      <td>2004</td>\n",
       "      <td>0.342241</td>\n",
       "      <td>98.215475</td>\n",
       "    </tr>\n",
       "    <tr>\n",
       "      <th>2</th>\n",
       "      <td>2005</td>\n",
       "      <td>0.318725</td>\n",
       "      <td>102.774788</td>\n",
       "    </tr>\n",
       "    <tr>\n",
       "      <th>3</th>\n",
       "      <td>2006</td>\n",
       "      <td>0.235168</td>\n",
       "      <td>74.652868</td>\n",
       "    </tr>\n",
       "    <tr>\n",
       "      <th>4</th>\n",
       "      <td>2007</td>\n",
       "      <td>0.338612</td>\n",
       "      <td>125.963364</td>\n",
       "    </tr>\n",
       "    <tr>\n",
       "      <th>5</th>\n",
       "      <td>2008</td>\n",
       "      <td>0.300842</td>\n",
       "      <td>93.206282</td>\n",
       "    </tr>\n",
       "    <tr>\n",
       "      <th>6</th>\n",
       "      <td>2009</td>\n",
       "      <td>0.337065</td>\n",
       "      <td>111.762475</td>\n",
       "    </tr>\n",
       "    <tr>\n",
       "      <th>7</th>\n",
       "      <td>2010</td>\n",
       "      <td>0.200620</td>\n",
       "      <td>78.036849</td>\n",
       "    </tr>\n",
       "    <tr>\n",
       "      <th>8</th>\n",
       "      <td>2011</td>\n",
       "      <td>0.363815</td>\n",
       "      <td>113.148138</td>\n",
       "    </tr>\n",
       "    <tr>\n",
       "      <th>9</th>\n",
       "      <td>2012</td>\n",
       "      <td>0.310300</td>\n",
       "      <td>98.432114</td>\n",
       "    </tr>\n",
       "    <tr>\n",
       "      <th>10</th>\n",
       "      <td>2013</td>\n",
       "      <td>0.385062</td>\n",
       "      <td>128.020752</td>\n",
       "    </tr>\n",
       "    <tr>\n",
       "      <th>11</th>\n",
       "      <td>2014</td>\n",
       "      <td>0.284906</td>\n",
       "      <td>81.537322</td>\n",
       "    </tr>\n",
       "    <tr>\n",
       "      <th>12</th>\n",
       "      <td>2015</td>\n",
       "      <td>0.300830</td>\n",
       "      <td>93.562237</td>\n",
       "    </tr>\n",
       "    <tr>\n",
       "      <th>13</th>\n",
       "      <td>2016</td>\n",
       "      <td>0.253673</td>\n",
       "      <td>79.699111</td>\n",
       "    </tr>\n",
       "    <tr>\n",
       "      <th>14</th>\n",
       "      <td>2017</td>\n",
       "      <td>0.068527</td>\n",
       "      <td>20.912674</td>\n",
       "    </tr>\n",
       "  </tbody>\n",
       "</table>\n",
       "</div>"
      ],
      "text/plain": [
       "     Ano   Leitura  Tokenizacao\n",
       "0   2003  0.380770   126.526620\n",
       "1   2004  0.342241    98.215475\n",
       "2   2005  0.318725   102.774788\n",
       "3   2006  0.235168    74.652868\n",
       "4   2007  0.338612   125.963364\n",
       "5   2008  0.300842    93.206282\n",
       "6   2009  0.337065   111.762475\n",
       "7   2010  0.200620    78.036849\n",
       "8   2011  0.363815   113.148138\n",
       "9   2012  0.310300    98.432114\n",
       "10  2013  0.385062   128.020752\n",
       "11  2014  0.284906    81.537322\n",
       "12  2015  0.300830    93.562237\n",
       "13  2016  0.253673    79.699111\n",
       "14  2017  0.068527    20.912674"
      ]
     },
     "execution_count": 9,
     "metadata": {},
     "output_type": "execute_result"
    }
   ],
   "source": [
    "df_des"
   ]
  },
  {
   "cell_type": "code",
   "execution_count": null,
   "metadata": {
    "collapsed": true
   },
   "outputs": [],
   "source": []
  }
 ],
 "metadata": {
  "kernelspec": {
   "display_name": "Python 3",
   "language": "python",
   "name": "python3"
  },
  "language_info": {
   "codemirror_mode": {
    "name": "ipython",
    "version": 3
   },
   "file_extension": ".py",
   "mimetype": "text/x-python",
   "name": "python",
   "nbconvert_exporter": "python",
   "pygments_lexer": "ipython3",
   "version": "3.6.1"
  }
 },
 "nbformat": 4,
 "nbformat_minor": 1
}
