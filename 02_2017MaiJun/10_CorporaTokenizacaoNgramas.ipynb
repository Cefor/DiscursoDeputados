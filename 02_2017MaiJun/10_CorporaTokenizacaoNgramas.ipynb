{
 "cells": [
  {
   "cell_type": "code",
   "execution_count": 2,
   "metadata": {
    "collapsed": true
   },
   "outputs": [],
   "source": [
    "## Construção do Corpus"
   ]
  },
  {
   "cell_type": "code",
   "execution_count": 3,
   "metadata": {
    "collapsed": true
   },
   "outputs": [],
   "source": [
    "import nltk # carga do pacote Natural Language Toolkit"
   ]
  },
  {
   "cell_type": "code",
   "execution_count": 4,
   "metadata": {
    "collapsed": true
   },
   "outputs": [],
   "source": [
    "from nltk.corpus import PlaintextCorpusReader"
   ]
  },
  {
   "cell_type": "code",
   "execution_count": 5,
   "metadata": {},
   "outputs": [
    {
     "data": {
      "text/plain": [
       "'F:\\\\_Pesquisa\\\\PosDoc\\\\Corpora'"
      ]
     },
     "execution_count": 5,
     "metadata": {},
     "output_type": "execute_result"
    }
   ],
   "source": [
    "corpus_root = r\"F:\\_Pesquisa\\PosDoc\\Corpora\"\n",
    "corpus_root"
   ]
  },
  {
   "cell_type": "code",
   "execution_count": 6,
   "metadata": {},
   "outputs": [
    {
     "data": {
      "text/plain": [
       "<PlaintextCorpusReader in 'F:\\\\_Pesquisa\\\\PosDoc\\\\Corpora'>"
      ]
     },
     "execution_count": 6,
     "metadata": {},
     "output_type": "execute_result"
    }
   ],
   "source": [
    "corpora = PlaintextCorpusReader(corpus_root, '.*', encoding='latin_1')\n",
    "corpora"
   ]
  },
  {
   "cell_type": "code",
   "execution_count": 7,
   "metadata": {},
   "outputs": [
    {
     "data": {
      "text/plain": [
       "['Discursos_2003.txt',\n",
       " 'Discursos_2004.txt',\n",
       " 'Discursos_2005.txt',\n",
       " 'Discursos_2006.txt',\n",
       " 'Discursos_2007.txt',\n",
       " 'Discursos_2008.txt',\n",
       " 'Discursos_2009.txt',\n",
       " 'Discursos_2010.txt',\n",
       " 'Discursos_2011.txt',\n",
       " 'Discursos_2012.txt',\n",
       " 'Discursos_2013.txt',\n",
       " 'Discursos_2014.txt',\n",
       " 'Discursos_2015.txt',\n",
       " 'Discursos_2016.txt',\n",
       " 'Discursos_2017.txt']"
      ]
     },
     "execution_count": 7,
     "metadata": {},
     "output_type": "execute_result"
    }
   ],
   "source": [
    "corpora.fileids()"
   ]
  },
  {
   "cell_type": "code",
   "execution_count": 33,
   "metadata": {
    "collapsed": true
   },
   "outputs": [],
   "source": [
    "# corpora.open('Discursos_2017.txt')"
   ]
  },
  {
   "cell_type": "code",
   "execution_count": 9,
   "metadata": {},
   "outputs": [
    {
     "data": {
      "text/plain": [
       "182039023"
      ]
     },
     "execution_count": 9,
     "metadata": {},
     "output_type": "execute_result"
    }
   ],
   "source": [
    "# http://www.nltk.org/howto/corpus.html#plaintext-corpora\n",
    "len(corpora.words())"
   ]
  },
  {
   "cell_type": "code",
   "execution_count": 11,
   "metadata": {},
   "outputs": [
    {
     "data": {
      "text/plain": [
       "'DETAQ'"
      ]
     },
     "execution_count": 11,
     "metadata": {},
     "output_type": "execute_result"
    }
   ],
   "source": [
    "palavras = corpora.words()\n",
    "palavras[-2]"
   ]
  },
  {
   "cell_type": "code",
   "execution_count": 12,
   "metadata": {},
   "outputs": [
    {
     "data": {
      "text/plain": [
       "['O', 'SR', '.', 'PRESIDENTE', '(', 'Nilton', 'Capixaba', ')', '-', 'Está']"
      ]
     },
     "execution_count": 12,
     "metadata": {},
     "output_type": "execute_result"
    }
   ],
   "source": [
    "palavras[0:10]"
   ]
  },
  {
   "cell_type": "code",
   "execution_count": 13,
   "metadata": {},
   "outputs": [
    {
     "data": {
      "text/plain": [
       "[['O', 'SR', '.', 'PRESIDENTE', '(', 'Nilton', 'Capixaba', ')', '-', 'Está', 'reaberta', 'a', 'sessão', '.'], ['Como', 'ficou', 'decidido', 'na', 'essão', 'do', 'dia', '18', ',', 'esta', 'sessão', 'seria', 'realizada', 'hoje', ',', 'dia', '22', ',', 'às', '11', 'horas', '.'], ...]"
      ]
     },
     "execution_count": 13,
     "metadata": {},
     "output_type": "execute_result"
    }
   ],
   "source": [
    "frases = corpora.sents()\n",
    "frases"
   ]
  },
  {
   "cell_type": "code",
   "execution_count": null,
   "metadata": {
    "collapsed": true,
    "scrolled": true
   },
   "outputs": [],
   "source": [
    "# http://nltk.sourceforge.net/doc/pt-br/tokenize.html\n",
    "# http://www.nltk.org/api/nltk.tokenize.html"
   ]
  },
  {
   "cell_type": "code",
   "execution_count": 14,
   "metadata": {
    "collapsed": true
   },
   "outputs": [],
   "source": [
    "raw = corpora.raw()"
   ]
  },
  {
   "cell_type": "code",
   "execution_count": 15,
   "metadata": {},
   "outputs": [
    {
     "data": {
      "text/plain": [
       "\"O SR. PRESIDENTE  (Nilton Capixaba) - Está reaberta a sessão. Como  ficou decidido na essão do dia 18, esta sessão seria realizada hoje, dia 22, às 11 horas. Sobre a mesa, expediente que será lido pelo sr. Primeiro secretário em exercício, Senador Romeu Tuma.\\r\\nO SR. PRESIDENTE  (Nilton Capixaba) - Tendo em vista que a Comissão Mista de Planos, Orçamentos Públicos e Fiscalização continua a apreciação dos pareceres sobre os Projetos de Lei n 30, de 2003-CN, que 'Dispõe sobre o Plano Plurianual para o período de 2004/2007' e 31, de 2003-CN, que 'Estima a Receita e fixa a Despesa da União para o exercício financeiro de 2004', a Presidência suspende esta sessão para reabri-la, amanhã, às 15 horas. Está suspensa a presente sessão.\\r\\nO SR. PRESIDENTE  (Inocêncio Oliveira) - Declaro reaberta a sessão, suspensa quando havia  quorum  regimental de 61 Srs. Senadores e 366 Srs. Deputados.  Foi feito acordo com todas as lideranças, desde que a sessão foi suspensa, através de amplo entendimento, no s\""
      ]
     },
     "execution_count": 15,
     "metadata": {},
     "output_type": "execute_result"
    }
   ],
   "source": [
    "raw[0:1000]"
   ]
  },
  {
   "cell_type": "code",
   "execution_count": 16,
   "metadata": {},
   "outputs": [
    {
     "data": {
      "text/plain": [
       "956988201"
      ]
     },
     "execution_count": 16,
     "metadata": {},
     "output_type": "execute_result"
    }
   ],
   "source": [
    "len(raw)"
   ]
  },
  {
   "cell_type": "code",
   "execution_count": 17,
   "metadata": {
    "collapsed": true
   },
   "outputs": [],
   "source": [
    "# http://www.nltk.org/api/nltk.tokenize.html\n",
    "from nltk.tokenize import regexp_tokenize"
   ]
  },
  {
   "cell_type": "code",
   "execution_count": 18,
   "metadata": {
    "collapsed": true
   },
   "outputs": [],
   "source": [
    "# pattern = r'\\w+|[^\\w\\s]+'\n",
    "# pattern='\\w+|\\$[\\d\\.]+|\\S+'\n",
    "tokens = regexp_tokenize(raw, pattern = r'\\w+|[^\\w\\s]+')"
   ]
  },
  {
   "cell_type": "code",
   "execution_count": 19,
   "metadata": {},
   "outputs": [
    {
     "data": {
      "text/plain": [
       "['O', 'SR', '.', 'PRESIDENTE', '(', 'Nilton', 'Capixaba', ')', '-', 'Está']"
      ]
     },
     "execution_count": 19,
     "metadata": {},
     "output_type": "execute_result"
    }
   ],
   "source": [
    "tokens[0:10]"
   ]
  },
  {
   "cell_type": "code",
   "execution_count": 20,
   "metadata": {},
   "outputs": [
    {
     "data": {
      "text/plain": [
       "182039023"
      ]
     },
     "execution_count": 20,
     "metadata": {},
     "output_type": "execute_result"
    }
   ],
   "source": [
    "len(tokens)"
   ]
  },
  {
   "cell_type": "code",
   "execution_count": 21,
   "metadata": {
    "collapsed": true
   },
   "outputs": [],
   "source": [
    "# Distribuição de frequência\n",
    "# http://www.nltk.org/_modules/nltk/probability.html\n",
    "from nltk.probability import FreqDist"
   ]
  },
  {
   "cell_type": "code",
   "execution_count": 22,
   "metadata": {
    "collapsed": true
   },
   "outputs": [],
   "source": [
    "fdist = FreqDist(word.lower() for word in tokens)"
   ]
  },
  {
   "cell_type": "code",
   "execution_count": 23,
   "metadata": {},
   "outputs": [
    {
     "data": {
      "image/png": "[encoded data removed]",
      "text/plain": [
       "<matplotlib.figure.Figure at 0x1fd7a5b7828>"
      ]
     },
     "metadata": {},
     "output_type": "display_data"
    }
   ],
   "source": [
    "fdist.plot(30)"
   ]
  },
  {
   "cell_type": "code",
   "execution_count": 24,
   "metadata": {},
   "outputs": [
    {
     "data": {
      "text/plain": [
       "182039023"
      ]
     },
     "execution_count": 24,
     "metadata": {},
     "output_type": "execute_result"
    }
   ],
   "source": [
    "fdist.N()"
   ]
  },
  {
   "cell_type": "code",
   "execution_count": 25,
   "metadata": {},
   "outputs": [
    {
     "data": {
      "text/plain": [
       "274422"
      ]
     },
     "execution_count": 25,
     "metadata": {},
     "output_type": "execute_result"
    }
   ],
   "source": [
    "fdist.B()"
   ]
  },
  {
   "cell_type": "code",
   "execution_count": 26,
   "metadata": {},
   "outputs": [
    {
     "data": {
      "text/plain": [
       "0.006150840526099726"
      ]
     },
     "execution_count": 26,
     "metadata": {},
     "output_type": "execute_result"
    }
   ],
   "source": [
    "fdist.freq('presidente')"
   ]
  },
  {
   "cell_type": "code",
   "execution_count": 9,
   "metadata": {
    "collapsed": true
   },
   "outputs": [],
   "source": [
    "# n-grams\n",
    "# collocations: is an expression consisting of two or more words that \n",
    "#               correspond to some conventional way of saying things\n",
    "# http://www.nltk.org/api/nltk.html?highlight=freqdist\n",
    "# http://www.nltk.org/howto/collocations.html\n",
    "\n",
    "from nltk.collocations import *"
   ]
  },
  {
   "cell_type": "code",
   "execution_count": 69,
   "metadata": {
    "collapsed": true
   },
   "outputs": [],
   "source": [
    "# bigrama\n",
    "finder = BigramCollocationFinder.from_words(word.lower() for word in tokens)"
   ]
  },
  {
   "cell_type": "code",
   "execution_count": 70,
   "metadata": {},
   "outputs": [
    {
     "data": {
      "text/plain": [
       "['teriam', ',', ';', '.', '!', '?', '.)', '-', ')', '(', '{']"
      ]
     },
     "execution_count": 70,
     "metadata": {},
     "output_type": "execute_result"
    }
   ],
   "source": [
    "# lista de stop words\n",
    "ignored_words = nltk.corpus.stopwords.words('portuguese')\n",
    "ignored_words = ignored_words + [',', ';', '.', '!', '?', '.)', '-', ')', '(', '{', '}'] \n",
    "ignored_words[-12:-1]"
   ]
  },
  {
   "cell_type": "code",
   "execution_count": 71,
   "metadata": {
    "collapsed": true
   },
   "outputs": [],
   "source": [
    "# retira as stop words\n",
    "finder.apply_word_filter(lambda w: len(w) < 3 or w.lower() in ignored_words)"
   ]
  },
  {
   "cell_type": "code",
   "execution_count": 72,
   "metadata": {
    "collapsed": true
   },
   "outputs": [],
   "source": [
    "# estima a frequência dos bigramas\n",
    "bigram_measures = nltk.collocations.BigramAssocMeasures()\n",
    "scored = finder.score_ngrams(bigram_measures.raw_freq)"
   ]
  },
  {
   "cell_type": "code",
   "execution_count": 73,
   "metadata": {},
   "outputs": [
    {
     "data": {
      "text/plain": [
       "4056176"
      ]
     },
     "execution_count": 73,
     "metadata": {},
     "output_type": "execute_result"
    }
   ],
   "source": [
    "len(scored)"
   ]
  },
  {
   "cell_type": "code",
   "execution_count": 76,
   "metadata": {},
   "outputs": [
    {
     "data": {
      "text/plain": [
       "[(('nesta', 'casa'), 0.0003687390193147582),\n",
       " (('governo', 'federal'), 0.0003573395312322813),\n",
       " (('medida', 'provisória'), 0.00034252719743422145),\n",
       " (('desta', 'casa'), 0.00033300039905209),\n",
       " (('presidente', 'lula'), 0.000302418967870747)]"
      ]
     },
     "execution_count": 76,
     "metadata": {},
     "output_type": "execute_result"
    }
   ],
   "source": [
    "scored[0:5]"
   ]
  },
  {
   "cell_type": "code",
   "execution_count": 43,
   "metadata": {
    "collapsed": true,
    "scrolled": true
   },
   "outputs": [],
   "source": [
    "import pandas as pd"
   ]
  },
  {
   "cell_type": "code",
   "execution_count": 58,
   "metadata": {},
   "outputs": [
    {
     "ename": "KeyboardInterrupt",
     "evalue": "",
     "output_type": "error",
     "traceback": [
      "\u001b[1;31m---------------------------------------------------------------------------\u001b[0m",
      "\u001b[1;31mKeyboardInterrupt\u001b[0m                         Traceback (most recent call last)",
      "\u001b[1;32m<ipython-input-58-69781e280e18>\u001b[0m in \u001b[0;36m<module>\u001b[1;34m()\u001b[0m\n\u001b[0;32m      1\u001b[0m \u001b[0mdf\u001b[0m \u001b[1;33m=\u001b[0m \u001b[0mpd\u001b[0m\u001b[1;33m.\u001b[0m\u001b[0mDataFrame\u001b[0m\u001b[1;33m(\u001b[0m\u001b[1;33m)\u001b[0m\u001b[1;33m\u001b[0m\u001b[0m\n\u001b[0;32m      2\u001b[0m \u001b[1;32mfor\u001b[0m \u001b[0mbigrama\u001b[0m \u001b[1;32min\u001b[0m \u001b[0mscored\u001b[0m\u001b[1;33m:\u001b[0m\u001b[1;33m\u001b[0m\u001b[0m\n\u001b[1;32m----> 3\u001b[1;33m     \u001b[0mdf\u001b[0m \u001b[1;33m=\u001b[0m \u001b[0mdf\u001b[0m\u001b[1;33m.\u001b[0m\u001b[0mappend\u001b[0m\u001b[1;33m(\u001b[0m\u001b[0mpd\u001b[0m\u001b[1;33m.\u001b[0m\u001b[0mSeries\u001b[0m\u001b[1;33m(\u001b[0m\u001b[1;33m{\u001b[0m\u001b[1;34m'p1'\u001b[0m\u001b[1;33m:\u001b[0m \u001b[0mbigrama\u001b[0m\u001b[1;33m[\u001b[0m\u001b[1;36m0\u001b[0m\u001b[1;33m]\u001b[0m\u001b[1;33m[\u001b[0m\u001b[1;36m0\u001b[0m\u001b[1;33m]\u001b[0m\u001b[1;33m,\u001b[0m\u001b[1;34m'p2'\u001b[0m\u001b[1;33m:\u001b[0m \u001b[0mbigrama\u001b[0m\u001b[1;33m[\u001b[0m\u001b[1;36m0\u001b[0m\u001b[1;33m]\u001b[0m\u001b[1;33m[\u001b[0m\u001b[1;36m1\u001b[0m\u001b[1;33m]\u001b[0m\u001b[1;33m,\u001b[0m \u001b[1;34m'freq'\u001b[0m\u001b[1;33m:\u001b[0m \u001b[0mbigrama\u001b[0m\u001b[1;33m[\u001b[0m\u001b[1;36m1\u001b[0m\u001b[1;33m]\u001b[0m\u001b[1;33m}\u001b[0m\u001b[1;33m)\u001b[0m\u001b[1;33m,\u001b[0m\u001b[0mignore_index\u001b[0m \u001b[1;33m=\u001b[0m \u001b[1;32mTrue\u001b[0m\u001b[1;33m)\u001b[0m\u001b[1;33m\u001b[0m\u001b[0m\n\u001b[0m\u001b[0;32m      4\u001b[0m \u001b[0mdf\u001b[0m\u001b[1;33m\u001b[0m\u001b[0m\n\u001b[0;32m      5\u001b[0m \u001b[0mdf\u001b[0m\u001b[1;33m.\u001b[0m\u001b[0mto_csv\u001b[0m\u001b[1;33m(\u001b[0m\u001b[1;34m'bigramas.csv'\u001b[0m\u001b[1;33m,\u001b[0m \u001b[0msep\u001b[0m\u001b[1;33m=\u001b[0m\u001b[1;34m';'\u001b[0m\u001b[1;33m,\u001b[0m \u001b[0mindex\u001b[0m\u001b[1;33m=\u001b[0m\u001b[1;32mFalse\u001b[0m\u001b[1;33m)\u001b[0m\u001b[1;33m\u001b[0m\u001b[0m\n",
      "\u001b[1;31mKeyboardInterrupt\u001b[0m: "
     ]
    }
   ],
   "source": [
    "df = pd.DataFrame()\n",
    "for bigrama in scored:\n",
    "    df = df.append(pd.Series({'p1': bigrama[0][0],'p2': bigrama[0][1], 'freq': bigrama[1]}),ignore_index = True)\n",
    "df\n",
    "df.to_csv('bigramas.csv', sep=';', index=False)"
   ]
  },
  {
   "cell_type": "code",
   "execution_count": 77,
   "metadata": {
    "collapsed": true
   },
   "outputs": [],
   "source": [
    "# trigrama\n",
    "finder = TrigramCollocationFinder.from_words(word.lower() for word in tokens)"
   ]
  },
  {
   "cell_type": "code",
   "execution_count": 78,
   "metadata": {
    "collapsed": true
   },
   "outputs": [],
   "source": [
    "# retira as stop words\n",
    "finder.apply_word_filter(lambda w: len(w) < 3 or w.lower() in ignored_words)"
   ]
  },
  {
   "cell_type": "code",
   "execution_count": 79,
   "metadata": {
    "collapsed": true
   },
   "outputs": [],
   "source": [
    "# estima a frequência dos trigramas\n",
    "trigram_measures = nltk.collocations.TrigramAssocMeasures()\n",
    "scored = finder.score_ngrams(trigram_measures.raw_freq)"
   ]
  },
  {
   "cell_type": "code",
   "execution_count": 80,
   "metadata": {},
   "outputs": [
    {
     "data": {
      "text/plain": [
       "3279917"
      ]
     },
     "execution_count": 80,
     "metadata": {},
     "output_type": "execute_result"
    }
   ],
   "source": [
    "len(scored)"
   ]
  },
  {
   "cell_type": "code",
   "execution_count": 81,
   "metadata": {},
   "outputs": [
    {
     "data": {
      "text/plain": [
       "[(('supremo', 'tribunal', 'federal'), 9.105005655231199e-05),\n",
       " (('henrique', 'eduardo', 'alves'), 6.993708451009906e-05),\n",
       " (('fernando', 'henrique', 'cardoso'), 5.5498121867248284e-05),\n",
       " (('luiz', 'inácio', 'lula'), 5.474554563253e-05),\n",
       " (('pronunciamento', 'encaminhado', 'mesa'), 4.399362314736879e-05)]"
      ]
     },
     "execution_count": 81,
     "metadata": {},
     "output_type": "execute_result"
    }
   ],
   "source": [
    "scored[0:5]"
   ]
  },
  {
   "cell_type": "code",
   "execution_count": 82,
   "metadata": {},
   "outputs": [
    {
     "ename": "KeyboardInterrupt",
     "evalue": "",
     "output_type": "error",
     "traceback": [
      "\u001b[1;31m---------------------------------------------------------------------------\u001b[0m",
      "\u001b[1;31mKeyboardInterrupt\u001b[0m                         Traceback (most recent call last)",
      "\u001b[1;32m<ipython-input-82-b6a0ecc8f165>\u001b[0m in \u001b[0;36m<module>\u001b[1;34m()\u001b[0m\n\u001b[0;32m      1\u001b[0m \u001b[0mdf\u001b[0m \u001b[1;33m=\u001b[0m \u001b[0mpd\u001b[0m\u001b[1;33m.\u001b[0m\u001b[0mDataFrame\u001b[0m\u001b[1;33m(\u001b[0m\u001b[1;33m)\u001b[0m\u001b[1;33m\u001b[0m\u001b[0m\n\u001b[0;32m      2\u001b[0m \u001b[1;32mfor\u001b[0m \u001b[0mtrigrama\u001b[0m \u001b[1;32min\u001b[0m \u001b[0mscored\u001b[0m\u001b[1;33m:\u001b[0m\u001b[1;33m\u001b[0m\u001b[0m\n\u001b[1;32m----> 3\u001b[1;33m     \u001b[0mdf\u001b[0m \u001b[1;33m=\u001b[0m \u001b[0mdf\u001b[0m\u001b[1;33m.\u001b[0m\u001b[0mappend\u001b[0m\u001b[1;33m(\u001b[0m\u001b[0mpd\u001b[0m\u001b[1;33m.\u001b[0m\u001b[0mSeries\u001b[0m\u001b[1;33m(\u001b[0m\u001b[1;33m{\u001b[0m\u001b[1;34m'p1'\u001b[0m\u001b[1;33m:\u001b[0m \u001b[0mtrigrama\u001b[0m\u001b[1;33m[\u001b[0m\u001b[1;36m0\u001b[0m\u001b[1;33m]\u001b[0m\u001b[1;33m[\u001b[0m\u001b[1;36m0\u001b[0m\u001b[1;33m]\u001b[0m\u001b[1;33m,\u001b[0m \u001b[1;34m'p2'\u001b[0m\u001b[1;33m:\u001b[0m \u001b[0mtrigrama\u001b[0m\u001b[1;33m[\u001b[0m\u001b[1;36m0\u001b[0m\u001b[1;33m]\u001b[0m\u001b[1;33m[\u001b[0m\u001b[1;36m1\u001b[0m\u001b[1;33m]\u001b[0m\u001b[1;33m,\u001b[0m \u001b[1;34m'p3'\u001b[0m\u001b[1;33m:\u001b[0m \u001b[0mtrigrama\u001b[0m\u001b[1;33m[\u001b[0m\u001b[1;36m0\u001b[0m\u001b[1;33m]\u001b[0m\u001b[1;33m[\u001b[0m\u001b[1;36m2\u001b[0m\u001b[1;33m]\u001b[0m\u001b[1;33m,\u001b[0m \u001b[1;34m'freq'\u001b[0m\u001b[1;33m:\u001b[0m \u001b[0mtrigrama\u001b[0m\u001b[1;33m[\u001b[0m\u001b[1;36m1\u001b[0m\u001b[1;33m]\u001b[0m\u001b[1;33m}\u001b[0m\u001b[1;33m)\u001b[0m\u001b[1;33m,\u001b[0m\u001b[0mignore_index\u001b[0m \u001b[1;33m=\u001b[0m \u001b[1;32mTrue\u001b[0m\u001b[1;33m)\u001b[0m\u001b[1;33m\u001b[0m\u001b[0m\n\u001b[0m\u001b[0;32m      4\u001b[0m \u001b[0mdf\u001b[0m\u001b[1;33m\u001b[0m\u001b[0m\n\u001b[0;32m      5\u001b[0m \u001b[0mdf\u001b[0m\u001b[1;33m.\u001b[0m\u001b[0mto_csv\u001b[0m\u001b[1;33m(\u001b[0m\u001b[1;34m'trigramas.csv'\u001b[0m\u001b[1;33m,\u001b[0m \u001b[0msep\u001b[0m\u001b[1;33m=\u001b[0m\u001b[1;34m';'\u001b[0m\u001b[1;33m,\u001b[0m \u001b[0mindex\u001b[0m\u001b[1;33m=\u001b[0m\u001b[1;32mFalse\u001b[0m\u001b[1;33m)\u001b[0m\u001b[1;33m\u001b[0m\u001b[0m\n",
      "\u001b[1;31mKeyboardInterrupt\u001b[0m: "
     ]
    }
   ],
   "source": [
    "df = pd.DataFrame()\n",
    "for trigrama in scored:\n",
    "    df = df.append(pd.Series({'p1': trigrama[0][0], 'p2': trigrama[0][1], 'p3': trigrama[0][2], 'freq': trigrama[1]}),ignore_index = True)\n",
    "df\n",
    "df.to_csv('trigramas.csv', sep=';', index=False)"
   ]
  },
  {
   "cell_type": "code",
   "execution_count": null,
   "metadata": {
    "collapsed": true
   },
   "outputs": [],
   "source": []
  },
  {
   "cell_type": "code",
   "execution_count": 27,
   "metadata": {
    "collapsed": true
   },
   "outputs": [],
   "source": [
    "# http://curriculum.dhbridge.org/modules/module13.html\n",
    "text = nltk.Text(tokens)"
   ]
  },
  {
   "cell_type": "code",
   "execution_count": 28,
   "metadata": {},
   "outputs": [
    {
     "data": {
      "text/plain": [
       "['SR', '.', 'PRESIDENTE', '(', 'Nilton', 'Capixaba', ')', '-', 'Está']"
      ]
     },
     "execution_count": 28,
     "metadata": {},
     "output_type": "execute_result"
    }
   ],
   "source": [
    "text[1:10]"
   ]
  },
  {
   "cell_type": "code",
   "execution_count": 29,
   "metadata": {},
   "outputs": [
    {
     "name": "stdout",
     "output_type": "stream",
     "text": [
      "Displaying 25 of 48 matches:\n",
      " é a maior instituição de pesquisa biomédica da América Latina . Nos primórdios\n",
      "quela cidade um pólo de tecnologia biomédica e um importante centro de produção\n",
      "pesquisadora há 40 anos na área de Biomédica , professora , livre - docente de \n",
      "ido Pinto foi mestre em Engenharia Biomédica e fundador da Sociedade Brasileira\n",
      "Sociedade Brasileira de Engenharia Biomédica , da Sociedade Brasileira de Infor\n",
      "ou a se especializar em Engenharia Biomédica e o transformou em respeitado prof\n",
      "or um excelente centro de pesquisa biomédica vinculado à Secretaria da Saúde do\n",
      "olve estudos na área de biologia e biomédica relacionados diretamente com a saú\n",
      "ações Internacionais , Informática Biomédica , Nutrição e Metabolismo . Criou -\n",
      "ada a cabo em nome da investigação biomédica ou da produção de células embrioná\n",
      "o maior centro de pesquisa na área biomédica da América Latina . Trata - se , c\n",
      " Sra . Luciana Alves de Oliveira , biomédica e professora da Universidade Feder\n",
      "ice Oliveira Burgos , Coordenadora Biomédica da UNIGRAN , em Dourados , Mato Gr\n",
      "os avanços normativos da atividade biomédica passaram por árdua trajetória . A \n",
      "ma a Prof . Dra . Alice Teixeira , biomédica e pesquisadora da UNIFESP / EPM , \n",
      "efinida . A professora , doutora , biomédica e pesquisadora da UNICEF , Alice T\n",
      "édicos veterinários , agrimensor e biomédica , oferece serviços de orientação t\n",
      " sobre os benefícios que a ciência biomédica têm fornecido à população em geral\n",
      "a instituição exemplar de pesquisa biomédica como o Instituto Oswaldo Cruz , um\n",
      "ções dos médicos quanto à pesquisa biomédica envolvendo seres humanos . Sem que\n",
      "aticamente todos os cursos da área biomédica , extremamente importantes para a \n",
      "ssão e suicídio . A Dra . Lílian é biomédica , Doutora em Biologia Molecular pe\n",
      "m plano de pesquisa dentro da área biomédica . Atualmente , no Distrito Federal\n",
      "obras vão compor pesquisas na área biomédica . preciso lembrar que não apenas a\n",
      "erviços ambulatoriais e engenharia biomédica . A qualificação de recursos human\n"
     ]
    }
   ],
   "source": [
    "text.concordance('biomédica')"
   ]
  },
  {
   "cell_type": "code",
   "execution_count": 48,
   "metadata": {},
   "outputs": [
    {
     "name": "stdout",
     "output_type": "stream",
     "text": [
      "Displaying 25 of 1141 matches:\n",
      "sperado . Vejamos agora a situação da UnB , solitária escola pública de ensino \n",
      "e V .Exa. Na condição de professor da UnB , embora compulsoriamente licenciado \n",
      " educação brasileira do século XX , a UNB deveria ser um centro de excelência u\n",
      "orme disse o Professor de História da UnB , especialista em , Wolfgang D , o at\n",
      "borrascas ideológicas que sacudiram a UnB no final dos anos 70 e no decorrer do\n",
      "nse de domingo passado , sob o título UnB mergulha na pior crise da sua históri\n",
      "istovam não tivesse sido professor da UnB . Tal comportamento mostra uma visão \n",
      "m recrutar os melhores quadros para a UnB , independentemente de suas convicçõe\n",
      "e , do Oiapoque ao Chuí , o modelo da UnB . Ora , os nossos escassos recursos f\n",
      "esabafo de Darcy Ribeiro , criador da UnB , que o jornal cita com muita proprie\n",
      "iversidade de Brasília . Fui aluna da UnB . Formei -me em Medicina em 1974 , e \n",
      "inistério da Educação que olhe para a UnB como um celeiro de pessoas que ali se\n",
      " Ministério da Educação deve tratar a UnB com esse significado . Sr . President\n",
      "rência Nacional de Meio Ambiente , na UnB , eu lembrava que o primeiro Encontro\n",
      "ringueiros aconteceu em Brasília , na UnB , na época em que Cristovam Buarque ,\n",
      " sua tese de doutorado , defendida na UnB , embora sem poder político e econômi\n",
      " de dirigir a Faculdade de Direito da UnB quando lá se encontravam professores \n",
      "ão , Cristovam Buarque , professor da UnB , posteriormente seu reitor . Cito ta\n",
      " sua vez , o professor de economia da UnB Carlos Alberto Ramos também defende a\n",
      "atório de Psicologia no Trabalho , da UnB , é louvável , no sentido de que irá \n",
      " que amanhã começará em Brasília , na UnB , a importantíssima Conferência Nacio\n",
      "e universidades parceiras como UFAC , UnB , UNICAMP , Universidade Federal de V\n",
      ", sendo que estas , por intermédio da UnB , encaminharam emendas e sugestões pa\n",
      " , pela Universidade de Viçosa , pela UnB , pelo nosso gabinete , pelos gabinet\n",
      "ao tempo em que S .Exa. era Reitor da UnB e eu , Reitor da Universidade Federal\n"
     ]
    }
   ],
   "source": [
    "text.concordance('UnB')"
   ]
  },
  {
   "cell_type": "code",
   "execution_count": 34,
   "metadata": {
    "collapsed": true
   },
   "outputs": [],
   "source": [
    "# https://rstudio-pubs-static.s3.amazonaws.com/97147_0ea92e526f73436cbc1817dce70b354b.html\n",
    "# http://vknight.org/unpeudemath/code/2015/06/14/natural-language-and-predicting-funny.html\n",
    "# http://web.media.mit.edu/~havasi/MAS.S60/assignment1.html\n",
    "# http://nltk.sourceforge.net/doc/pt-br/tokenize.html"
   ]
  },
  {
   "cell_type": "code",
   "execution_count": null,
   "metadata": {
    "collapsed": true
   },
   "outputs": [],
   "source": [
    "# https://github.com/fmaruki/Nltk-Tagger-Portuguese\n",
    "# analise morfológica\n",
    "nltk.pos_tag(text)"
   ]
  },
  {
   "cell_type": "code",
   "execution_count": null,
   "metadata": {
    "collapsed": true
   },
   "outputs": [],
   "source": [
    "# classificador\n",
    "# https://pythonspot.com/en/natural-language-processing-prediction/"
   ]
  }
 ],
 "metadata": {
  "kernelspec": {
   "display_name": "Python 3",
   "language": "python",
   "name": "python3"
  },
  "language_info": {
   "codemirror_mode": {
    "name": "ipython",
    "version": 3
   },
   "file_extension": ".py",
   "mimetype": "text/x-python",
   "name": "python",
   "nbconvert_exporter": "python",
   "pygments_lexer": "ipython3",
   "version": "3.6.1"
  }
 },
 "nbformat": 4,
 "nbformat_minor": 1
}
